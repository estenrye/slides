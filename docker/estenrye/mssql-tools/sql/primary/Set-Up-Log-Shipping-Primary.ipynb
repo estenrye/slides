{
    "metadata": {
        "kernelspec": {
            "name": "SQL",
            "display_name": "SQL",
            "language": "sql"
        },
        "language_info": {
            "name": "sql",
            "version": ""
        }
    },
    "nbformat_minor": 2,
    "nbformat": 4,
    "cells": [
        {
            "cell_type": "markdown",
            "source": [
                "# Reference Documentation\n",
                "\n",
                "## Microsoft Docs\n",
                "\n",
                "- [About Log Shipping (SQL Server)](https://docs.microsoft.com/en-us/sql/database-engine/log-shipping/about-log-shipping-sql-server?view=sql-server-ver15)\n",
                "- [Business continuity and database recovery - SQL Server on Linux](https://docs.microsoft.com/en-us/sql/linux/sql-server-linux-business-continuity-dr?view=sql-server-ver15)\n",
                "- [Secure SQL Server Docker containers](https://docs.microsoft.com/en-us/sql/linux/sql-server-linux-docker-container-security?view=sql-server-ver15)\n",
                "- [Get started with Log Shipping on Linux](https://docs.microsoft.com/en-us/sql/linux/sql-server-linux-use-log-shipping?view=sql-server-ver15)\n",
                "- [Create and run SQL Agent jobs on Linux](https://docs.microsoft.com/en-us/sql/linux/sql-server-linux-run-sql-server-agent-job?view=sql-server-ver15)\n",
                "\n",
                "## MSSQLTips\n",
                "\n",
                "- [Configure Log Shipping for SQL Server on Linux](https://www.mssqltips.com/sqlservertip/6527/configure-log-shipping-for-sql-server-on-linux/)\n",
                "- [Considerations for Running SQL Server on Kubernetes](https://www.mssqltips.com/sqlservertip/6775/run-sql-server-on-kubernetes/)\n",
                "\n",
                "## SQLShack\n",
                "\n",
                "- [How to set up SQL Server Log Shipping on Linux](https://www.sqlshack.com/set-sql-server-log-shipping-linux/)\n",
                "\n",
                "## SQLWhisperer\n",
                "\n",
                "- [StandBy option while restoring database](https://sqlwhisper.com/2014/07/21/standby-option-while-restoring-database/)\n",
                "\n",
                "## YouTube\n",
                "\n",
                "- Brent Ozar Unlimited\n",
                "  - [DBA Fundamentals: Backups 1: 3 Common Strategies](https://www.youtube.com/watch?v=NuwDF6kzONs)\n",
                "  - [DBA Fundamentals: Backups 2: Restores](youtube.com/watch?v=c9tjmhNAaP8)\n",
                "  - [DBA Fundamentals: Backups 3: Setting Up Maintenance Plans](https://www.youtube.com/watch?v=7zlCBhvFkhM)\n",
                "  - [DBA Fundamentals: Backups 4: Setting Up Ola Hallengren's Scripts for Backups](https://www.youtube.com/watch?v=9LnVJaDZ2-E)\n",
                "  - [Senior DBA Class - Transaction Log Shipping Tips and Tricks](https://www.youtube.com/watch?v=Xkec_EK5Idg)\n",
                "\n",
                "- Keven Hill\n",
                "  - [Full backups do not break SQL Server Log Shipping](https://www.youtube.com/watch?v=Zp_2U0VSrZg)\n",
                "\n",
                "# SQL Server HA AG Research\n",
                "\n",
                "## Anthony Nocentino's Blog\n",
                "\n",
                "- [Deploying SQL Server Availability Groups in Kubernetes](https://www.nocentino.com/posts/2018-11-13-deploying-sql-server-in-kubernetes/)\n",
                "\n",
                "## dbShed\n",
                "\n",
                "- [SQL Server 2019 Availability Groups with Kubernetes](http://www.dbshed.com/article/12/Kubernetes/SQL-Server-2019-Availability-Groups-with-Kubernetes)\n",
                "\n",
                "## GitHub\n",
                "\n",
                "- [sample-manifest-files, microsoft/sql-server-samples](https://github.com/microsoft/sql-server-samples/tree/master/samples/features/high%20availability/Kubernetes/sample-manifest-files)\n",
                "- [SQL Server 2019 Availability Groups Kubernetes, kenthowerter/dbShedScripts](https://github.com/kenthowerter/dbShedScripts/tree/master/SQL%20Server%202019%20Availability%20Groups%20Kubernetes)\n",
                "\n",
                "## Microsoft Docs\n",
                "\n",
                "- [Always On Availability Group failover on Linux](https://docs.microsoft.com/en-us/sql/linux/sql-server-linux-availability-group-failover-ha?view=sql-server-ver15)\n",
                "\n",
                "## Microsoft SQL Server Blog\n",
                "\n",
                "- [Availability Groups on Kubernetes in SQL Server 2019 preview](https://cloudblogs.microsoft.com/sqlserver/2018/12/10/availability-groups-on-kubernetes-in-sql-server-2019-preview/)\n",
                "\n",
                "## SQLPassion\n",
                "\n",
                "- [Deploying a SQL Server 2019 Availability Group into a Kubernetes Cluster](https://www.sqlpassion.at/archive/2019/02/25/deploying-a-sql-server-2019-availability-group-into-a-kubernetes-cluster/)\n",
                "\n",
                "## StackOverflow\n",
                "\n",
                "- [K8s SQL2019 HA Containers - Dude, where are my Pods?](https://stackoverflow.com/questions/63405840/k8s-sql2019-ha-containers-dude-where-are-my-pods)"
            ],
            "metadata": {
                "azdata_cell_guid": "817efee7-c505-4804-a43f-5dcda83dccb5"
            },
            "attachments": {}
        },
        {
            "cell_type": "markdown",
            "source": [
                "# Create `vault` Database"
            ],
            "metadata": {
                "azdata_cell_guid": "805eb750-c18f-471a-8b1d-500dae1e6417"
            },
            "attachments": {}
        },
        {
            "cell_type": "code",
            "source": [
                "USE master;\n",
                "GO\n",
                "IF DB_ID (N'vault') IS NULL\n",
                "CREATE DATABASE [vault]\n",
                " CONTAINMENT = NONE\n",
                " ON  PRIMARY \n",
                "( NAME = N'vault', FILENAME = N'/var/opt/mssql/data/vault-db.mdb' , SIZE = 131072KB , FILEGROWTH = 65536KB )\n",
                " LOG ON \n",
                "( NAME = N'vault_log', FILENAME = N'/var/opt/mssql/data/vault-db.ldb' , SIZE = 131072KB , FILEGROWTH = 65536KB )\n",
                "GO\n",
                "ALTER DATABASE [vault] SET COMPATIBILITY_LEVEL = 150\n",
                "GO\n",
                "ALTER DATABASE [vault] SET ANSI_NULL_DEFAULT OFF \n",
                "GO\n",
                "ALTER DATABASE [vault] SET ANSI_NULLS OFF \n",
                "GO\n",
                "ALTER DATABASE [vault] SET ANSI_PADDING OFF \n",
                "GO\n",
                "ALTER DATABASE [vault] SET ANSI_WARNINGS OFF \n",
                "GO\n",
                "ALTER DATABASE [vault] SET ARITHABORT OFF \n",
                "GO\n",
                "ALTER DATABASE [vault] SET AUTO_CLOSE OFF \n",
                "GO\n",
                "ALTER DATABASE [vault] SET AUTO_SHRINK OFF \n",
                "GO\n",
                "ALTER DATABASE [vault] SET AUTO_CREATE_STATISTICS ON(INCREMENTAL = OFF)\n",
                "GO\n",
                "ALTER DATABASE [vault] SET AUTO_UPDATE_STATISTICS ON \n",
                "GO\n",
                "ALTER DATABASE [vault] SET CURSOR_CLOSE_ON_COMMIT OFF \n",
                "GO\n",
                "ALTER DATABASE [vault] SET CURSOR_DEFAULT  GLOBAL \n",
                "GO\n",
                "ALTER DATABASE [vault] SET CONCAT_NULL_YIELDS_NULL OFF \n",
                "GO\n",
                "ALTER DATABASE [vault] SET NUMERIC_ROUNDABORT OFF \n",
                "GO\n",
                "ALTER DATABASE [vault] SET QUOTED_IDENTIFIER OFF \n",
                "GO\n",
                "ALTER DATABASE [vault] SET RECURSIVE_TRIGGERS OFF \n",
                "GO\n",
                "ALTER DATABASE [vault] SET  DISABLE_BROKER \n",
                "GO\n",
                "ALTER DATABASE [vault] SET AUTO_UPDATE_STATISTICS_ASYNC OFF \n",
                "GO\n",
                "ALTER DATABASE [vault] SET DATE_CORRELATION_OPTIMIZATION OFF \n",
                "GO\n",
                "ALTER DATABASE [vault] SET PARAMETERIZATION SIMPLE \n",
                "GO\n",
                "ALTER DATABASE [vault] SET READ_COMMITTED_SNAPSHOT OFF \n",
                "GO\n",
                "ALTER DATABASE [vault] SET  READ_WRITE \n",
                "GO\n",
                "ALTER DATABASE [vault] SET RECOVERY FULL \n",
                "GO\n",
                "ALTER DATABASE [vault] SET  MULTI_USER \n",
                "GO\n",
                "ALTER DATABASE [vault] SET PAGE_VERIFY CHECKSUM  \n",
                "GO\n",
                "ALTER DATABASE [vault] SET TARGET_RECOVERY_TIME = 60 SECONDS \n",
                "GO\n",
                "ALTER DATABASE [vault] SET DELAYED_DURABILITY = DISABLED \n",
                "GO\n",
                "USE [vault]\n",
                "GO\n",
                "ALTER DATABASE SCOPED CONFIGURATION SET LEGACY_CARDINALITY_ESTIMATION = Off;\n",
                "GO\n",
                "ALTER DATABASE SCOPED CONFIGURATION FOR SECONDARY SET LEGACY_CARDINALITY_ESTIMATION = Primary;\n",
                "GO\n",
                "ALTER DATABASE SCOPED CONFIGURATION SET MAXDOP = 0;\n",
                "GO\n",
                "ALTER DATABASE SCOPED CONFIGURATION FOR SECONDARY SET MAXDOP = PRIMARY;\n",
                "GO\n",
                "ALTER DATABASE SCOPED CONFIGURATION SET PARAMETER_SNIFFING = On;\n",
                "GO\n",
                "ALTER DATABASE SCOPED CONFIGURATION FOR SECONDARY SET PARAMETER_SNIFFING = Primary;\n",
                "GO\n",
                "ALTER DATABASE SCOPED CONFIGURATION SET QUERY_OPTIMIZER_HOTFIXES = Off;\n",
                "GO\n",
                "ALTER DATABASE SCOPED CONFIGURATION FOR SECONDARY SET QUERY_OPTIMIZER_HOTFIXES = Primary;\n",
                "GO\n",
                "USE [vault]\n",
                "GO\n",
                "IF NOT EXISTS (SELECT name FROM sys.filegroups WHERE is_default=1 AND name = N'PRIMARY') ALTER DATABASE [vault] MODIFY FILEGROUP [PRIMARY] DEFAULT\n",
                "GO\n",
                "GO\n",
                "-- Verify the database files and sizes\n",
                "SELECT name, size, size*1.0/128 AS [Size in MBs]\n",
                "FROM sys.master_files\n",
                "WHERE name = N'vault';\n",
                "GO"
            ],
            "metadata": {
                "azdata_cell_guid": "5df1c42e-cc84-4633-aede-453e45b00c2e",
                "tags": []
            },
            "outputs": [
                {
                    "output_type": "display_data",
                    "data": {
                        "text/html": "Commands completed successfully."
                    },
                    "metadata": {}
                },
                {
                    "output_type": "display_data",
                    "data": {
                        "text/html": "Commands completed successfully."
                    },
                    "metadata": {}
                },
                {
                    "output_type": "display_data",
                    "data": {
                        "text/html": "(1 row affected)"
                    },
                    "metadata": {}
                },
                {
                    "output_type": "display_data",
                    "data": {
                        "text/html": "Total execution time: 00:00:02.392"
                    },
                    "metadata": {}
                },
                {
                    "output_type": "execute_result",
                    "metadata": {},
                    "execution_count": 1,
                    "data": {
                        "application/vnd.dataresource+json": {
                            "schema": {
                                "fields": [
                                    {
                                        "name": "name"
                                    },
                                    {
                                        "name": "size"
                                    },
                                    {
                                        "name": "Size in MBs"
                                    }
                                ]
                            },
                            "data": [
                                {
                                    "0": "vault",
                                    "1": "1024",
                                    "2": "8.000000"
                                }
                            ]
                        },
                        "text/html": [
                            "<table>",
                            "<tr><th>name</th><th>size</th><th>Size in MBs</th></tr>",
                            "<tr><td>vault</td><td>1024</td><td>8.000000</td></tr>",
                            "</table>"
                        ]
                    }
                }
            ],
            "execution_count": 1
        },
        {
            "cell_type": "markdown",
            "source": [
                "# Check the Recovery Model of the Database\n",
                "\n",
                "For a database to be log-shipped, it must be in the `Full` or `Bulk Logged` database recovery model."
            ],
            "metadata": {
                "azdata_cell_guid": "3cf4864f-0665-4d4c-8905-46e093441e11"
            }
        },
        {
            "cell_type": "code",
            "source": [
                "SELECT name AS [Database Name], recovery_model_desc AS [Recovery Model] FROM sys.databases"
            ],
            "metadata": {
                "azdata_cell_guid": "3cbb0496-dafd-4742-8748-60807f007a07"
            },
            "outputs": [
                {
                    "output_type": "display_data",
                    "data": {
                        "text/html": "(5 rows affected)"
                    },
                    "metadata": {}
                },
                {
                    "output_type": "display_data",
                    "data": {
                        "text/html": "Total execution time: 00:00:00.143"
                    },
                    "metadata": {}
                },
                {
                    "output_type": "execute_result",
                    "metadata": {},
                    "execution_count": 2,
                    "data": {
                        "application/vnd.dataresource+json": {
                            "schema": {
                                "fields": [
                                    {
                                        "name": "Database Name"
                                    },
                                    {
                                        "name": "Recovery Model"
                                    }
                                ]
                            },
                            "data": [
                                {
                                    "0": "master",
                                    "1": "SIMPLE"
                                },
                                {
                                    "0": "tempdb",
                                    "1": "SIMPLE"
                                },
                                {
                                    "0": "model",
                                    "1": "FULL"
                                },
                                {
                                    "0": "msdb",
                                    "1": "SIMPLE"
                                },
                                {
                                    "0": "vault",
                                    "1": "FULL"
                                }
                            ]
                        },
                        "text/html": [
                            "<table>",
                            "<tr><th>Database Name</th><th>Recovery Model</th></tr>",
                            "<tr><td>master</td><td>SIMPLE</td></tr>",
                            "<tr><td>tempdb</td><td>SIMPLE</td></tr>",
                            "<tr><td>model</td><td>FULL</td></tr>",
                            "<tr><td>msdb</td><td>SIMPLE</td></tr>",
                            "<tr><td>vault</td><td>FULL</td></tr>",
                            "</table>"
                        ]
                    }
                }
            ],
            "execution_count": 2
        },
        {
            "cell_type": "markdown",
            "source": [
                "# Back up the Database on the Primary Server\n",
                "Log shipping requires a full backup of the Database and the Transaction Log to initialize the database on the Secondary Server."
            ],
            "metadata": {
                "azdata_cell_guid": "495bbd0f-e9c1-42ac-b34e-e0d26791408b"
            }
        },
        {
            "cell_type": "code",
            "source": [
                "USE master;\n",
                "GO\n",
                "\n",
                "BACKUP DATABASE vault TO DISK = '/var/opt/mssql-log-shipping/vault_LogShipping_FullBackup.bak'\n",
                "WITH INIT\n",
                "\t,FORMAT\n",
                "\t,COMPRESSION\n",
                "\t,STATS = 5;\n",
                "GO\n",
                "\n",
                "BACKUP LOG vault TO DISK = '/var/opt/mssql-log-shipping/vault_LogShipping_TransactionLogBackup.bak'\n",
                "WITH INIT\n",
                "\t,FORMAT\n",
                "\t,COMPRESSION\n",
                "\t,STATS = 5;\n",
                "GO"
            ],
            "metadata": {
                "azdata_cell_guid": "25312a2b-7d7b-4d70-8637-6c66b88bb905",
                "tags": []
            },
            "outputs": [
                {
                    "output_type": "display_data",
                    "data": {
                        "text/html": "Commands completed successfully."
                    },
                    "metadata": {}
                },
                {
                    "output_type": "display_data",
                    "data": {
                        "text/html": "5 percent processed."
                    },
                    "metadata": {}
                },
                {
                    "output_type": "display_data",
                    "data": {
                        "text/html": "10 percent processed."
                    },
                    "metadata": {}
                },
                {
                    "output_type": "display_data",
                    "data": {
                        "text/html": "15 percent processed."
                    },
                    "metadata": {}
                },
                {
                    "output_type": "display_data",
                    "data": {
                        "text/html": "20 percent processed."
                    },
                    "metadata": {}
                },
                {
                    "output_type": "display_data",
                    "data": {
                        "text/html": "25 percent processed."
                    },
                    "metadata": {}
                },
                {
                    "output_type": "display_data",
                    "data": {
                        "text/html": "30 percent processed."
                    },
                    "metadata": {}
                },
                {
                    "output_type": "display_data",
                    "data": {
                        "text/html": "35 percent processed."
                    },
                    "metadata": {}
                },
                {
                    "output_type": "display_data",
                    "data": {
                        "text/html": "40 percent processed."
                    },
                    "metadata": {}
                },
                {
                    "output_type": "display_data",
                    "data": {
                        "text/html": "45 percent processed."
                    },
                    "metadata": {}
                },
                {
                    "output_type": "display_data",
                    "data": {
                        "text/html": "50 percent processed."
                    },
                    "metadata": {}
                },
                {
                    "output_type": "display_data",
                    "data": {
                        "text/html": "55 percent processed."
                    },
                    "metadata": {}
                },
                {
                    "output_type": "display_data",
                    "data": {
                        "text/html": "60 percent processed."
                    },
                    "metadata": {}
                },
                {
                    "output_type": "display_data",
                    "data": {
                        "text/html": "66 percent processed."
                    },
                    "metadata": {}
                },
                {
                    "output_type": "display_data",
                    "data": {
                        "text/html": "71 percent processed."
                    },
                    "metadata": {}
                },
                {
                    "output_type": "display_data",
                    "data": {
                        "text/html": "76 percent processed."
                    },
                    "metadata": {}
                },
                {
                    "output_type": "display_data",
                    "data": {
                        "text/html": "81 percent processed."
                    },
                    "metadata": {}
                },
                {
                    "output_type": "display_data",
                    "data": {
                        "text/html": "86 percent processed."
                    },
                    "metadata": {}
                },
                {
                    "output_type": "display_data",
                    "data": {
                        "text/html": "91 percent processed."
                    },
                    "metadata": {}
                },
                {
                    "output_type": "display_data",
                    "data": {
                        "text/html": "96 percent processed."
                    },
                    "metadata": {}
                },
                {
                    "output_type": "display_data",
                    "data": {
                        "text/html": "100 percent processed."
                    },
                    "metadata": {}
                },
                {
                    "output_type": "display_data",
                    "data": {
                        "text/html": "Processed 328 pages for database 'vault', file 'vault' on file 1."
                    },
                    "metadata": {}
                },
                {
                    "output_type": "display_data",
                    "data": {
                        "text/html": "Processed 2 pages for database 'vault', file 'vault_log' on file 1."
                    },
                    "metadata": {}
                },
                {
                    "output_type": "display_data",
                    "data": {
                        "text/html": "BACKUP DATABASE successfully processed 330 pages in 0.469 seconds (5.488 MB/sec)."
                    },
                    "metadata": {}
                },
                {
                    "output_type": "display_data",
                    "data": {
                        "text/html": "100 percent processed."
                    },
                    "metadata": {}
                },
                {
                    "output_type": "display_data",
                    "data": {
                        "text/html": "Processed 3 pages for database 'vault', file 'vault_log' on file 1."
                    },
                    "metadata": {}
                },
                {
                    "output_type": "display_data",
                    "data": {
                        "text/html": "BACKUP LOG successfully processed 3 pages in 0.045 seconds (0.520 MB/sec)."
                    },
                    "metadata": {}
                },
                {
                    "output_type": "display_data",
                    "data": {
                        "text/html": "Total execution time: 00:00:01.817"
                    },
                    "metadata": {}
                }
            ],
            "execution_count": 6
        },
        {
            "cell_type": "markdown",
            "source": [
                "# Restore backups to Secondary Server\n",
                "Switch the server context to the secondary server before executing."
            ],
            "metadata": {
                "azdata_cell_guid": "60ec6255-426c-4a07-af78-3e46963310e0"
            }
        },
        {
            "cell_type": "code",
            "source": [
                "USE [master]\n",
                "RESTORE DATABASE [vault]\n",
                "FROM DISK = N'/var/opt/mssql-log-shipping/vault_LogShipping_FullBackup.bak'\n",
                "WITH FILE = 1,\n",
                "     MOVE N'vault' TO N'/var/opt/mssql/data/vault-db.mdb',\n",
                "\t MOVE N'vault_log' TO N'/var/opt/mssql/data/vault-db.ldb',\n",
                "\t STANDBY = N'/var/opt/mssql/data/vault_RollbackUndo_2022-02-14_03-08-24.bak',\n",
                "\t NOUNLOAD,\n",
                "\t REPLACE,\n",
                "\t STATS = 5\n",
                "GO\n",
                "\n",
                "RESTORE LOG [vault]\n",
                "FROM DISK = N'/var/opt/mssql-log-shipping/vault_LogShipping_TransactionLogBackup.bak'\n",
                "WITH FILE = 1,\n",
                "     STANDBY = N'/var/opt/mssql/data\\ROLLBACK_UNDO_vault.BAK',\n",
                "\t NOUNLOAD,\n",
                "\t STATS = 5\n",
                "GO\n",
                ""
            ],
            "metadata": {
                "azdata_cell_guid": "b9e0a763-b875-479f-b928-388f6a8d0896",
                "tags": []
            },
            "outputs": [
                {
                    "output_type": "display_data",
                    "data": {
                        "text/html": "5 percent processed."
                    },
                    "metadata": {}
                },
                {
                    "output_type": "display_data",
                    "data": {
                        "text/html": "10 percent processed."
                    },
                    "metadata": {}
                },
                {
                    "output_type": "display_data",
                    "data": {
                        "text/html": "15 percent processed."
                    },
                    "metadata": {}
                },
                {
                    "output_type": "display_data",
                    "data": {
                        "text/html": "20 percent processed."
                    },
                    "metadata": {}
                },
                {
                    "output_type": "display_data",
                    "data": {
                        "text/html": "25 percent processed."
                    },
                    "metadata": {}
                },
                {
                    "output_type": "display_data",
                    "data": {
                        "text/html": "30 percent processed."
                    },
                    "metadata": {}
                },
                {
                    "output_type": "display_data",
                    "data": {
                        "text/html": "35 percent processed."
                    },
                    "metadata": {}
                },
                {
                    "output_type": "display_data",
                    "data": {
                        "text/html": "40 percent processed."
                    },
                    "metadata": {}
                },
                {
                    "output_type": "display_data",
                    "data": {
                        "text/html": "45 percent processed."
                    },
                    "metadata": {}
                },
                {
                    "output_type": "display_data",
                    "data": {
                        "text/html": "50 percent processed."
                    },
                    "metadata": {}
                },
                {
                    "output_type": "display_data",
                    "data": {
                        "text/html": "55 percent processed."
                    },
                    "metadata": {}
                },
                {
                    "output_type": "display_data",
                    "data": {
                        "text/html": "60 percent processed."
                    },
                    "metadata": {}
                },
                {
                    "output_type": "display_data",
                    "data": {
                        "text/html": "66 percent processed."
                    },
                    "metadata": {}
                },
                {
                    "output_type": "display_data",
                    "data": {
                        "text/html": "71 percent processed."
                    },
                    "metadata": {}
                },
                {
                    "output_type": "display_data",
                    "data": {
                        "text/html": "76 percent processed."
                    },
                    "metadata": {}
                },
                {
                    "output_type": "display_data",
                    "data": {
                        "text/html": "81 percent processed."
                    },
                    "metadata": {}
                },
                {
                    "output_type": "display_data",
                    "data": {
                        "text/html": "86 percent processed."
                    },
                    "metadata": {}
                },
                {
                    "output_type": "display_data",
                    "data": {
                        "text/html": "91 percent processed."
                    },
                    "metadata": {}
                },
                {
                    "output_type": "display_data",
                    "data": {
                        "text/html": "96 percent processed."
                    },
                    "metadata": {}
                },
                {
                    "output_type": "display_data",
                    "data": {
                        "text/html": "100 percent processed."
                    },
                    "metadata": {}
                },
                {
                    "output_type": "display_data",
                    "data": {
                        "text/html": "Processed 328 pages for database 'vault', file 'vault' on file 1."
                    },
                    "metadata": {}
                },
                {
                    "output_type": "display_data",
                    "data": {
                        "text/html": "Processed 2 pages for database 'vault', file 'vault_log' on file 1."
                    },
                    "metadata": {}
                },
                {
                    "output_type": "display_data",
                    "data": {
                        "text/html": "RESTORE DATABASE successfully processed 330 pages in 0.183 seconds (14.066 MB/sec)."
                    },
                    "metadata": {}
                },
                {
                    "output_type": "display_data",
                    "data": {
                        "text/html": "Commands completed successfully."
                    },
                    "metadata": {}
                },
                {
                    "output_type": "display_data",
                    "data": {
                        "text/html": "Total execution time: 00:00:03.701"
                    },
                    "metadata": {}
                }
            ],
            "execution_count": 13
        },
        {
            "cell_type": "markdown",
            "source": [
                "# Configure Log Shipping on the Primary SQL Server\n",
                "This script will configure the primary SQL server to perform a transaction log backup every 15 minutes."
            ],
            "metadata": {
                "azdata_cell_guid": "003bfeba-fa71-4a19-bc90-bc36ee1a0c24"
            }
        },
        {
            "cell_type": "code",
            "source": [
                "-- Execute the following statements at the Primary to configure Log Shipping \n",
                "-- for the database [mssql-primary.mssql.svc.cluster.local].[vault],\n",
                "-- The script needs to be run at the Primary in the context of the [msdb] database.  \n",
                "------------------------------------------------------------------------------------- \n",
                "-- Adding the Log Shipping configuration \n",
                "\n",
                "-- ****** Begin: Script to be run at Primary: [mssql-primary.mssql.svc.cluster.local] ******\n",
                "\n",
                "\n",
                "DECLARE @LS_BackupJobId\tAS uniqueidentifier \n",
                "DECLARE @LS_PrimaryId\tAS uniqueidentifier \n",
                "DECLARE @SP_Add_RetCode\tAs int \n",
                "\n",
                "\n",
                "EXEC @SP_Add_RetCode = master.dbo.sp_add_log_shipping_primary_database \n",
                "\t\t@database = N'vault' \n",
                "\t\t,@backup_directory = N'/var/opt/mssql-log-shipping' \n",
                "\t\t,@backup_share = N'/var/opt/mssql-log-shipping' \n",
                "\t\t,@backup_job_name = N'LSBackup_vault' \n",
                "\t\t,@backup_retention_period = 4320\n",
                "\t\t,@backup_compression = 2\n",
                "\t\t,@monitor_server = N'MSSQL-MONITOR.MSSQL.SVC.CLUSTER.LOCAL' \n",
                "\t\t,@monitor_server_security_mode = 0 \n",
                "\t\t,@monitor_server_login = N'sa'\n",
                "\t\t,@monitor_server_password = N'myPasswordHere!'\n",
                "\t\t,@backup_threshold = 60 \n",
                "\t\t,@threshold_alert_enabled = 1\n",
                "\t\t,@history_retention_period = 5760 \n",
                "\t\t,@backup_job_id = @LS_BackupJobId OUTPUT \n",
                "\t\t,@primary_id = @LS_PrimaryId OUTPUT \n",
                "\t\t,@overwrite = 1 \n",
                "\n",
                "\n",
                "IF (@@ERROR = 0 AND @SP_Add_RetCode = 0) \n",
                "BEGIN \n",
                "\n",
                "DECLARE @LS_BackUpScheduleUID\tAs uniqueidentifier \n",
                "DECLARE @LS_BackUpScheduleID\tAS int \n",
                "\n",
                "\n",
                "EXEC msdb.dbo.sp_add_schedule \n",
                "\t\t@schedule_name =N'LSBackupSchedule_mssql-primary.mssql.svc.cluster.local1' \n",
                "\t\t,@enabled = 1 \n",
                "\t\t,@freq_type = 4 \n",
                "\t\t,@freq_interval = 1 \n",
                "\t\t,@freq_subday_type = 4 \n",
                "\t\t,@freq_subday_interval = 15 \n",
                "\t\t,@freq_recurrence_factor = 0 \n",
                "\t\t,@active_start_date = 20220213 \n",
                "\t\t,@active_end_date = 99991231 \n",
                "\t\t,@active_start_time = 0 \n",
                "\t\t,@active_end_time = 235900 \n",
                "\t\t,@schedule_uid = @LS_BackUpScheduleUID OUTPUT \n",
                "\t\t,@schedule_id = @LS_BackUpScheduleID OUTPUT \n",
                "\n",
                "EXEC msdb.dbo.sp_attach_schedule \n",
                "\t\t@job_id = @LS_BackupJobId \n",
                "\t\t,@schedule_id = @LS_BackUpScheduleID  \n",
                "\n",
                "EXEC msdb.dbo.sp_update_job \n",
                "\t\t@job_id = @LS_BackupJobId \n",
                "\t\t,@enabled = 1 \n",
                "\n",
                "\n",
                "END \n",
                "\n",
                "\n",
                "EXEC master.dbo.sp_add_log_shipping_primary_secondary \n",
                "\t\t@primary_database = N'vault' \n",
                "\t\t,@secondary_server = N'MSSQL-SECONDARY.MSSQL.SVC.CLUSTER.LOCAL' \n",
                "\t\t,@secondary_database = N'vault' \n",
                "\t\t,@overwrite = 1 \n",
                "\n",
                "-- ****** End: Script to be run at Primary: [mssql-primary.mssql.svc.cluster.local]  ******"
            ],
            "metadata": {
                "azdata_cell_guid": "ec2bfc90-fd51-4b98-9508-b9249b3807ac"
            },
            "outputs": [
                {
                    "output_type": "display_data",
                    "data": {
                        "text/html": "Commands completed successfully."
                    },
                    "metadata": {}
                },
                {
                    "output_type": "display_data",
                    "data": {
                        "text/html": "Total execution time: 00:00:04.573"
                    },
                    "metadata": {}
                }
            ],
            "execution_count": 14
        },
        {
            "cell_type": "markdown",
            "source": [
                "# Configure Log Shipping on the Secondary Server\n",
                "This script will configure the secondary server to restore transaction log backups every 15 minutes"
            ],
            "metadata": {
                "azdata_cell_guid": "8f35724c-74d9-45e7-a23a-de310e7a8fd9"
            }
        },
        {
            "cell_type": "code",
            "source": [
                "DECLARE @LS_Secondary__CopyJobId     AS uniqueidentifier \n",
                "DECLARE @LS_Secondary__RestoreJobId  AS uniqueidentifier \n",
                "DECLARE @LS_Secondary__SecondaryId   AS uniqueidentifier \n",
                "DECLARE @LS_Add_RetCode              AS int \n",
                "DECLARE @Database AS NVARCHAR(50)\n",
                "DECLARE @LogShippingCopyJobName AS NVARCHAR(50)\n",
                "DECLARE @LogShippingRestoreJobName AS NVARCHAR(50)\n",
                "DECLARE @LogShippingDirectory AS NVARCHAR(50)\n",
                "DECLARE @LogShippingPrimaryServer AS NVARCHAR(50)\n",
                "\n",
                "SET @Database = N'vault'\n",
                "SET @LogShippingCopyJobName = N'LSCopy_' + @Database\n",
                "SET @LogShippingRestoreJobName = N'LSRestore_' + @Database\n",
                "SET @LogShippingPrimaryServer = N'mssql-primary.mssql.svc.cluster.local'\n",
                "SET @LogShippingDirectory = N'/var/opt/mssql-log-shipping'\n",
                " \n",
                "EXEC @LS_Add_RetCode = master.dbo.sp_add_log_shipping_secondary_primary \n",
                "        @primary_server = @LogShippingPrimaryServer\n",
                "        ,@primary_database = @Database\n",
                "        ,@backup_source_directory= @LogShippingDirectory \n",
                "        ,@backup_destination_directory = @LogShippingDirectory\n",
                "        ,@copy_job_name = @LogShippingCopyJobName\n",
                "        ,@restore_job_name = @LogShippingRestoreJobName\n",
                "        ,@file_retention_period = 4320 \n",
                "        ,@overwrite = 1 \n",
                "        ,@copy_job_id = @LS_Secondary__CopyJobId OUTPUT \n",
                "        ,@restore_job_id = @LS_Secondary__RestoreJobId OUTPUT \n",
                "        ,@secondary_id = @LS_Secondary__SecondaryId OUTPUT \n",
                " \n",
                "IF (@@ERROR = 0 AND @LS_Add_RetCode = 0) \n",
                "BEGIN \n",
                " \n",
                "DECLARE @LS_SecondaryCopyJobScheduleUID AS uniqueidentifier \n",
                "DECLARE @LS_SecondaryCopyJobScheduleID  AS int \n",
                " \n",
                "EXEC msdb.dbo.sp_add_schedule \n",
                "        @schedule_name =N'DefaultCopyJobSchedule' \n",
                "        ,@enabled = 1 \n",
                "        ,@freq_type = 4 \n",
                "        ,@freq_interval = 1 \n",
                "        ,@freq_subday_type = 4 \n",
                "        ,@freq_subday_interval = 15 \n",
                "        ,@freq_recurrence_factor = 0 \n",
                "        ,@active_start_date = 20170418 \n",
                "        ,@active_end_date = 99991231 \n",
                "        ,@active_start_time = 0 \n",
                "        ,@active_end_time = 235900 \n",
                "        ,@schedule_uid = @LS_SecondaryCopyJobScheduleUID OUTPUT \n",
                "        ,@schedule_id = @LS_SecondaryCopyJobScheduleID OUTPUT \n",
                " \n",
                "EXEC msdb.dbo.sp_attach_schedule \n",
                "        @job_id = @LS_Secondary__CopyJobId \n",
                "        ,@schedule_id = @LS_SecondaryCopyJobScheduleID  \n",
                " \n",
                "DECLARE @LS_SecondaryRestoreJobScheduleUID  AS uniqueidentifier \n",
                "DECLARE @LS_SecondaryRestoreJobScheduleID   AS int \n",
                " \n",
                "EXEC msdb.dbo.sp_add_schedule \n",
                "        @schedule_name =N'DefaultRestoreJobSchedule' \n",
                "        ,@enabled = 1 \n",
                "        ,@freq_type = 4 \n",
                "        ,@freq_interval = 1 \n",
                "        ,@freq_subday_type = 4 \n",
                "        ,@freq_subday_interval = 15 \n",
                "        ,@freq_recurrence_factor = 0 \n",
                "        ,@active_start_date = 20170418 \n",
                "        ,@active_end_date = 99991231 \n",
                "        ,@active_start_time = 0 \n",
                "        ,@active_end_time = 235900 \n",
                "        ,@schedule_uid = @LS_SecondaryRestoreJobScheduleUID OUTPUT \n",
                "        ,@schedule_id = @LS_SecondaryRestoreJobScheduleID OUTPUT \n",
                " \n",
                "EXEC msdb.dbo.sp_attach_schedule \n",
                "        @job_id = @LS_Secondary__RestoreJobId \n",
                "        ,@schedule_id = @LS_SecondaryRestoreJobScheduleID  \n",
                " \n",
                "END \n",
                "DECLARE @LS_Add_RetCode2 AS int \n",
                "IF (@@ERROR = 0 AND @LS_Add_RetCode = 0) \n",
                "BEGIN \n",
                " \n",
                "EXEC @LS_Add_RetCode2 = master.dbo.sp_add_log_shipping_secondary_database \n",
                "        @secondary_database = @Database \n",
                "        ,@primary_server = @LogShippingPrimaryServer\n",
                "        ,@primary_database = @Database \n",
                "        ,@restore_delay = 0 \n",
                "        ,@restore_mode = 1 \n",
                "        ,@disconnect_users = 0 \n",
                "        ,@restore_threshold = 45   \n",
                "        ,@threshold_alert_enabled = 1 \n",
                "        ,@history_retention_period = 5760 \n",
                "        ,@overwrite = 1 \n",
                " \n",
                "END \n",
                " \n",
                "IF (@@error = 0 AND @LS_Add_RetCode = 0) \n",
                "BEGIN \n",
                " \n",
                "EXEC msdb.dbo.sp_update_job \n",
                "        @job_id = @LS_Secondary__CopyJobId \n",
                "        ,@enabled = 1 \n",
                " \n",
                "EXEC msdb.dbo.sp_update_job \n",
                "        @job_id = @LS_Secondary__RestoreJobId \n",
                "        ,@enabled = 1 \n",
                " \n",
                "END"
            ],
            "metadata": {
                "azdata_cell_guid": "9cae3071-8fea-4d45-a06f-e40f9480381b"
            },
            "outputs": [
                {
                    "output_type": "error",
                    "evalue": "Msg 14261, Level 16, State 1, Procedure sp_verify_job, Line 60\nThe specified @name ('LSCopy_vault') already exists.",
                    "ename": "",
                    "traceback": []
                },
                {
                    "output_type": "display_data",
                    "data": {
                        "text/html": "Total execution time: 00:00:01.871"
                    },
                    "metadata": {}
                }
            ],
            "execution_count": 17
        },
        {
            "cell_type": "markdown",
            "source": [
                "# List All Jobs on a SQL Server"
            ],
            "metadata": {
                "azdata_cell_guid": "c379416c-3ad5-4b97-9e50-d09a5de67012"
            },
            "attachments": {}
        },
        {
            "cell_type": "code",
            "source": [
                "SELECT job_id,name,enabled,date_created,date_modified\n",
                "FROM msdb.dbo.sysjobs\n",
                "ORDER BY date_created"
            ],
            "metadata": {
                "azdata_cell_guid": "2a84295b-d542-4564-9294-0812e99d5e1f"
            },
            "outputs": [
                {
                    "output_type": "display_data",
                    "data": {
                        "text/html": "(3 rows affected)"
                    },
                    "metadata": {}
                },
                {
                    "output_type": "display_data",
                    "data": {
                        "text/html": "Total execution time: 00:00:00.025"
                    },
                    "metadata": {}
                },
                {
                    "output_type": "execute_result",
                    "metadata": {},
                    "execution_count": 21,
                    "data": {
                        "application/vnd.dataresource+json": {
                            "schema": {
                                "fields": [
                                    {
                                        "name": "job_id"
                                    },
                                    {
                                        "name": "name"
                                    },
                                    {
                                        "name": "enabled"
                                    },
                                    {
                                        "name": "date_created"
                                    },
                                    {
                                        "name": "date_modified"
                                    }
                                ]
                            },
                            "data": [
                                {
                                    "0": "2ccf819b-9e9c-4aff-90f3-299b271988b0",
                                    "1": "LSCopy_vault",
                                    "2": "1",
                                    "3": "2022-02-13 02:50:40.060",
                                    "4": "2022-02-13 02:50:40.817"
                                },
                                {
                                    "0": "91f87db9-4e1c-4c78-8d67-447270192d06",
                                    "1": "LSRestore_vault",
                                    "2": "1",
                                    "3": "2022-02-13 02:50:40.173",
                                    "4": "2022-02-13 02:50:40.883"
                                },
                                {
                                    "0": "757f14cf-d0b0-472b-a3df-ea8f6c6c9872",
                                    "1": "LSAlert_MSSQL-SECONDARY",
                                    "2": "1",
                                    "3": "2022-02-13 02:50:40.547",
                                    "4": "2022-02-13 02:50:40.600"
                                }
                            ]
                        },
                        "text/html": [
                            "<table>",
                            "<tr><th>job_id</th><th>name</th><th>enabled</th><th>date_created</th><th>date_modified</th></tr>",
                            "<tr><td>2ccf819b-9e9c-4aff-90f3-299b271988b0</td><td>LSCopy_vault</td><td>1</td><td>2022-02-13 02:50:40.060</td><td>2022-02-13 02:50:40.817</td></tr>",
                            "<tr><td>91f87db9-4e1c-4c78-8d67-447270192d06</td><td>LSRestore_vault</td><td>1</td><td>2022-02-13 02:50:40.173</td><td>2022-02-13 02:50:40.883</td></tr>",
                            "<tr><td>757f14cf-d0b0-472b-a3df-ea8f6c6c9872</td><td>LSAlert_MSSQL-SECONDARY</td><td>1</td><td>2022-02-13 02:50:40.547</td><td>2022-02-13 02:50:40.600</td></tr>",
                            "</table>"
                        ]
                    }
                }
            ],
            "execution_count": 21
        },
        {
            "cell_type": "markdown",
            "source": [
                "# When was the last run date and time for a SQL Server Agent Job?"
            ],
            "metadata": {
                "azdata_cell_guid": "abb4e982-52f0-4157-b6a9-433c3060e156"
            }
        },
        {
            "cell_type": "code",
            "source": [
                "SELECT \n",
                "sysjobsteps.job_id\n",
                ",sysjobsteps.step_id\n",
                ",sysjobsteps.step_name\n",
                ",sysjobsteps.last_run_date\n",
                ",LEFT(CAST(sysjobsteps.last_run_date AS VARCHAR),4)+ '-'\n",
                "+SUBSTRING(CAST(sysjobsteps.last_run_date AS VARCHAR),5,2)+'-'\n",
                "+SUBSTRING(CAST(sysjobsteps.last_run_date AS VARCHAR),7,2) converted_last_run_date\n",
                ",sysjobsteps.last_run_time\n",
                ",\n",
                "CASE \n",
                " WHEN LEN(CAST(sysjobsteps.last_run_time AS VARCHAR)) = 6  \n",
                "  THEN SUBSTRING(CAST(sysjobsteps.last_run_time AS VARCHAR),1,2) \n",
                "    +':' + SUBSTRING(CAST(sysjobsteps.last_run_time AS VARCHAR),3,2)\n",
                "    +':' + SUBSTRING(CAST(sysjobsteps.last_run_time AS VARCHAR),5,2)\n",
                " WHEN LEN(CAST(sysjobsteps.last_run_time AS VARCHAR)) = 5\n",
                "  THEN '0' + SUBSTRING(CAST(sysjobsteps.last_run_time AS VARCHAR),1,1) \n",
                "    +':'+SUBSTRING(CAST(sysjobsteps.last_run_time AS VARCHAR),2,2)\n",
                "    +':'+SUBSTRING(CAST(sysjobsteps.last_run_time AS VARCHAR),4,2)\n",
                " WHEN LEN(CAST(sysjobsteps.last_run_time AS VARCHAR)) = 4\n",
                "  THEN '00:' \n",
                "    + SUBSTRING(CAST(sysjobsteps.last_run_time AS VARCHAR),1,2)\n",
                "    +':' + SUBSTRING(CAST(sysjobsteps.last_run_time AS VARCHAR),3,2)\n",
                " WHEN LEN(CAST(sysjobsteps.last_run_time AS VARCHAR)) = 3\n",
                "  THEN '00:' \n",
                "    +'0' + SUBSTRING(CAST(sysjobsteps.last_run_time AS VARCHAR),1,1)\n",
                "    +':' + SUBSTRING(CAST(sysjobsteps.last_run_time AS VARCHAR),2,2)\n",
                " WHEN LEN(CAST(sysjobsteps.last_run_time AS VARCHAR)) = 2  THEN '00:00:' + CAST(sysjobsteps.last_run_time AS VARCHAR)\n",
                " WHEN LEN(CAST(sysjobsteps.last_run_time AS VARCHAR)) = 1  THEN '00:00:' + '0'+ CAST(sysjobsteps.last_run_time AS VARCHAR)\n",
                "END converted_last_run_time\n",
                "FROM msdb.dbo.sysjobsteps\n",
                "ORDER BY job_id, step_id"
            ],
            "metadata": {
                "azdata_cell_guid": "01b97b08-0f57-4717-8263-2546f5fb6c27"
            },
            "outputs": [
                {
                    "output_type": "display_data",
                    "data": {
                        "text/html": "(3 rows affected)"
                    },
                    "metadata": {}
                },
                {
                    "output_type": "display_data",
                    "data": {
                        "text/html": "Total execution time: 00:00:00.070"
                    },
                    "metadata": {}
                },
                {
                    "output_type": "execute_result",
                    "metadata": {},
                    "execution_count": 25,
                    "data": {
                        "application/vnd.dataresource+json": {
                            "schema": {
                                "fields": [
                                    {
                                        "name": "job_id"
                                    },
                                    {
                                        "name": "step_id"
                                    },
                                    {
                                        "name": "step_name"
                                    },
                                    {
                                        "name": "last_run_date"
                                    },
                                    {
                                        "name": "converted_last_run_date"
                                    },
                                    {
                                        "name": "last_run_time"
                                    },
                                    {
                                        "name": "converted_last_run_time"
                                    }
                                ]
                            },
                            "data": [
                                {
                                    "0": "2ccf819b-9e9c-4aff-90f3-299b271988b0",
                                    "1": "1",
                                    "2": "Log shipping copy job step.",
                                    "3": "20220213",
                                    "4": "2022-02-13",
                                    "5": "61500",
                                    "6": "06:15:00"
                                },
                                {
                                    "0": "91f87db9-4e1c-4c78-8d67-447270192d06",
                                    "1": "1",
                                    "2": "Log shipping restore log job step.",
                                    "3": "20220213",
                                    "4": "2022-02-13",
                                    "5": "61501",
                                    "6": "06:15:01"
                                },
                                {
                                    "0": "757f14cf-d0b0-472b-a3df-ea8f6c6c9872",
                                    "1": "1",
                                    "2": "Log shipping alert job step.",
                                    "3": "20220213",
                                    "4": "2022-02-13",
                                    "5": "62801",
                                    "6": "06:28:01"
                                }
                            ]
                        },
                        "text/html": [
                            "<table>",
                            "<tr><th>job_id</th><th>step_id</th><th>step_name</th><th>last_run_date</th><th>converted_last_run_date</th><th>last_run_time</th><th>converted_last_run_time</th></tr>",
                            "<tr><td>2ccf819b-9e9c-4aff-90f3-299b271988b0</td><td>1</td><td>Log shipping copy job step.</td><td>20220213</td><td>2022-02-13</td><td>61500</td><td>06:15:00</td></tr>",
                            "<tr><td>91f87db9-4e1c-4c78-8d67-447270192d06</td><td>1</td><td>Log shipping restore log job step.</td><td>20220213</td><td>2022-02-13</td><td>61501</td><td>06:15:01</td></tr>",
                            "<tr><td>757f14cf-d0b0-472b-a3df-ea8f6c6c9872</td><td>1</td><td>Log shipping alert job step.</td><td>20220213</td><td>2022-02-13</td><td>62801</td><td>06:28:01</td></tr>",
                            "</table>"
                        ]
                    }
                }
            ],
            "execution_count": 25
        },
        {
            "cell_type": "markdown",
            "source": [
                "# When is the next run date and time for a SQL Server Agent Job"
            ],
            "metadata": {
                "azdata_cell_guid": "9e9c045a-7876-4e32-b582-fc5485dc2e19"
            }
        },
        {
            "cell_type": "code",
            "source": [
                "SELECT \n",
                "name\n",
                ",CONVERT(VARCHAR(16), date_created, 120) date_created\n",
                ",sysjobsteps.step_id\n",
                ",sysjobsteps.step_name\n",
                ",LEFT(CAST(sysjobsteps.last_run_date AS VARCHAR),4)+ '-'\n",
                "+SUBSTRING(CAST(sysjobsteps.last_run_date AS VARCHAR),5,2)+'-'\n",
                "+SUBSTRING(CAST(sysjobsteps.last_run_date AS VARCHAR),7,2) last_run_date\n",
                ",\n",
                "CASE \n",
                " WHEN LEN(CAST(sysjobsteps.last_run_time AS VARCHAR)) = 6  \n",
                "  THEN SUBSTRING(CAST(sysjobsteps.last_run_time AS VARCHAR),1,2) \n",
                "    +':' + SUBSTRING(CAST(sysjobsteps.last_run_time AS VARCHAR),3,2)\n",
                "    +':' + SUBSTRING(CAST(sysjobsteps.last_run_time AS VARCHAR),5,2)\n",
                " WHEN LEN(CAST(sysjobsteps.last_run_time AS VARCHAR)) = 5\n",
                "  THEN '0' + SUBSTRING(CAST(sysjobsteps.last_run_time AS VARCHAR),1,1) \n",
                "    +':'+SUBSTRING(CAST(sysjobsteps.last_run_time AS VARCHAR),2,2)\n",
                "    +':'+SUBSTRING(CAST(sysjobsteps.last_run_time AS VARCHAR),4,2)\n",
                " WHEN LEN(CAST(sysjobsteps.last_run_time AS VARCHAR)) = 4\n",
                "  THEN '00:' \n",
                "    + SUBSTRING(CAST(sysjobsteps.last_run_time AS VARCHAR),1,2)\n",
                "    +':' + SUBSTRING(CAST(sysjobsteps.last_run_time AS VARCHAR),3,2)\n",
                " WHEN LEN(CAST(sysjobsteps.last_run_time AS VARCHAR)) = 3\n",
                "  THEN '00:' \n",
                "    +'0' + SUBSTRING(CAST(sysjobsteps.last_run_time AS VARCHAR),1,1)\n",
                "    +':' + SUBSTRING(CAST(sysjobsteps.last_run_time AS VARCHAR),2,2)\n",
                " WHEN LEN(CAST(sysjobsteps.last_run_time AS VARCHAR)) = 2  THEN '00:00:' + CAST(sysjobsteps.last_run_time AS VARCHAR)\n",
                " WHEN LEN(CAST(sysjobsteps.last_run_time AS VARCHAR)) = 1  THEN '00:00:' + '0'+ CAST(sysjobsteps.last_run_time AS VARCHAR)\n",
                "END last_run_time\n",
                ",LEFT(CAST(sysjobschedules.next_run_date AS VARCHAR),4)+ '-'\n",
                "+SUBSTRING(CAST(sysjobschedules.next_run_date AS VARCHAR),5,2)+'-'\n",
                "+SUBSTRING(CAST(sysjobschedules.next_run_date AS VARCHAR),7,2) next_run_date\n",
                ",\n",
                "CASE \n",
                " WHEN LEN(CAST(next_run_time AS VARCHAR)) = 6  \n",
                "  THEN SUBSTRING(CAST(next_run_time AS VARCHAR),1,2) \n",
                "    +':' + SUBSTRING(CAST(next_run_time AS VARCHAR),3,2)\n",
                "    +':' + SUBSTRING(CAST(next_run_time AS VARCHAR),5,2)\n",
                " WHEN LEN(CAST(next_run_time AS VARCHAR)) = 5\n",
                "  THEN '0' + SUBSTRING(CAST(next_run_time AS VARCHAR),1,1) \n",
                "    +':'+SUBSTRING(CAST(next_run_time AS VARCHAR),2,2)\n",
                "    +':'+SUBSTRING(CAST(next_run_time AS VARCHAR),4,2)\n",
                " WHEN LEN(CAST(next_run_time AS VARCHAR)) = 4\n",
                "  THEN '00:' \n",
                "    + SUBSTRING(CAST(next_run_time AS VARCHAR),1,2)\n",
                "    +':' + SUBSTRING(CAST(next_run_time AS VARCHAR),3,2)\n",
                " WHEN LEN(CAST(next_run_time AS VARCHAR)) = 3\n",
                "  THEN '00:' \n",
                "    +'0' + SUBSTRING(CAST(next_run_time AS VARCHAR),1,1)\n",
                "    +':' + SUBSTRING(CAST(next_run_time AS VARCHAR),2,2)\n",
                " WHEN LEN(CAST(next_run_time AS VARCHAR)) = 2  THEN '00:00:' + CAST(next_run_time AS VARCHAR)\n",
                " WHEN LEN(CAST(next_run_time AS VARCHAR)) = 1  THEN '00:00:' + '0'+ CAST(next_run_time AS VARCHAR)\n",
                "END next_run_time\n",
                "FROM msdb.dbo.sysjobs\n",
                "LEFT JOIN msdb.dbo.sysjobschedules\n",
                "ON sysjobs.job_id = sysjobschedules.job_id\n",
                "INNER JOIN msdb.dbo.sysjobsteps\n",
                "ON sysjobs.job_id = sysjobsteps.job_id\n",
                "ORDER BY sysjobs.job_id, sysjobsteps.step_id"
            ],
            "metadata": {
                "azdata_cell_guid": "b6b097b9-e834-493a-8631-188e0c8c6a13"
            },
            "outputs": [
                {
                    "output_type": "display_data",
                    "data": {
                        "text/html": "(3 rows affected)"
                    },
                    "metadata": {}
                },
                {
                    "output_type": "display_data",
                    "data": {
                        "text/html": "Total execution time: 00:00:00.026"
                    },
                    "metadata": {}
                },
                {
                    "output_type": "execute_result",
                    "metadata": {},
                    "execution_count": 26,
                    "data": {
                        "application/vnd.dataresource+json": {
                            "schema": {
                                "fields": [
                                    {
                                        "name": "name"
                                    },
                                    {
                                        "name": "date_created"
                                    },
                                    {
                                        "name": "step_id"
                                    },
                                    {
                                        "name": "step_name"
                                    },
                                    {
                                        "name": "last_run_date"
                                    },
                                    {
                                        "name": "last_run_time"
                                    },
                                    {
                                        "name": "next_run_date"
                                    },
                                    {
                                        "name": "next_run_time"
                                    }
                                ]
                            },
                            "data": [
                                {
                                    "0": "LSCopy_vault",
                                    "1": "2022-02-13 02:50",
                                    "2": "1",
                                    "3": "Log shipping copy job step.",
                                    "4": "2022-02-13",
                                    "5": "06:15:00",
                                    "6": "2022-02-13",
                                    "7": "06:15:00"
                                },
                                {
                                    "0": "LSRestore_vault",
                                    "1": "2022-02-13 02:50",
                                    "2": "1",
                                    "3": "Log shipping restore log job step.",
                                    "4": "2022-02-13",
                                    "5": "06:15:01",
                                    "6": "2022-02-13",
                                    "7": "06:15:00"
                                },
                                {
                                    "0": "LSAlert_MSSQL-SECONDARY",
                                    "1": "2022-02-13 02:50",
                                    "2": "1",
                                    "3": "Log shipping alert job step.",
                                    "4": "2022-02-13",
                                    "5": "06:28:01",
                                    "6": "2022-02-13",
                                    "7": "06:12:00"
                                }
                            ]
                        },
                        "text/html": [
                            "<table>",
                            "<tr><th>name</th><th>date_created</th><th>step_id</th><th>step_name</th><th>last_run_date</th><th>last_run_time</th><th>next_run_date</th><th>next_run_time</th></tr>",
                            "<tr><td>LSCopy_vault</td><td>2022-02-13 02:50</td><td>1</td><td>Log shipping copy job step.</td><td>2022-02-13</td><td>06:15:00</td><td>2022-02-13</td><td>06:15:00</td></tr>",
                            "<tr><td>LSRestore_vault</td><td>2022-02-13 02:50</td><td>1</td><td>Log shipping restore log job step.</td><td>2022-02-13</td><td>06:15:01</td><td>2022-02-13</td><td>06:15:00</td></tr>",
                            "<tr><td>LSAlert_MSSQL-SECONDARY</td><td>2022-02-13 02:50</td><td>1</td><td>Log shipping alert job step.</td><td>2022-02-13</td><td>06:28:01</td><td>2022-02-13</td><td>06:12:00</td></tr>",
                            "</table>"
                        ]
                    }
                }
            ],
            "execution_count": 26
        }
    ]
}